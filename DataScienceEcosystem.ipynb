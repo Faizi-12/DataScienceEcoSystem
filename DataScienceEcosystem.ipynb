{
 "cells": [
  {
   "cell_type": "markdown",
   "id": "0d48b9d8-ad99-4bbd-8836-69499b4b0638",
   "metadata": {},
   "source": [
    "# DataScienceEcosystem"
   ]
  },
  {
   "cell_type": "markdown",
   "id": "e254eea3-70bc-4a74-ae9e-c8163bb27e28",
   "metadata": {},
   "source": [
    "In this notebook, Data Science Tools and Ecosystem are summarized."
   ]
  },
  {
   "cell_type": "markdown",
   "id": "f7f5444d-92c2-4bda-862a-47bb32b14420",
   "metadata": {},
   "source": [
    "**Objectives:**\n",
    "- Introduction to Data Science Tools\r\n",
    "- Basic Arithmetic Operations\r\n",
    "- Conversion of Time Units\r\n",
    "- Commonly Used Libraries in Data Science\r\n",
    "- Development Environment Tools\r\n",
    "\n"
   ]
  },
  {
   "cell_type": "markdown",
   "id": "5daa3b80-803f-4d1b-bd9e-46361e6b2831",
   "metadata": {},
   "source": [
    "Some of the popular languages that Data Scientists use are:\n",
    "1. Python\n",
    "2. R\n",
    "3. SQL"
   ]
  },
  {
   "cell_type": "markdown",
   "id": "c66f336f-25f4-48d3-ad54-472c0542262a",
   "metadata": {},
   "source": [
    "Some of the commonly used libraries used by Data Scientists include:\n",
    "1. Pandas\n",
    "2. Matplotlib\n",
    "3. Numpy"
   ]
  },
  {
   "cell_type": "markdown",
   "id": "5717345a-e269-41ac-9282-e624e79b87d9",
   "metadata": {},
   "source": [
    "| Data Science Tools             |\r\n",
    "|--------------------------------|\r\n",
    "| Jupyter Notebook               |\r\n",
    "| RStudio                        |\r\n",
    "| Apache Zeppelin               |\r\n"
   ]
  },
  {
   "cell_type": "markdown",
   "id": "5ef90218-1258-4f16-b9e0-b54577740441",
   "metadata": {},
   "source": [
    "### Below are a few examples of evaluating arithmetic expressions in Python"
   ]
  },
  {
   "cell_type": "code",
   "execution_count": 8,
   "id": "c3131f34-4dc3-498d-9948-7dece7aca803",
   "metadata": {},
   "outputs": [
    {
     "data": {
      "text/plain": [
       "17"
      ]
     },
     "execution_count": 8,
     "metadata": {},
     "output_type": "execute_result"
    }
   ],
   "source": [
    "# This a simple arithmetic expression to mutiply then add integers\n",
    "a = (3*4)+5\n",
    "a"
   ]
  },
  {
   "cell_type": "code",
   "execution_count": 10,
   "id": "e74ac6f8-0d5a-4401-a98d-a8145600297a",
   "metadata": {},
   "outputs": [
    {
     "data": {
      "text/plain": [
       "3.3333333333333335"
      ]
     },
     "execution_count": 10,
     "metadata": {},
     "output_type": "execute_result"
    }
   ],
   "source": [
    "# This will convert 200 minutes to hours by diving by 60\n",
    "m = 200/60\n",
    "m\n"
   ]
  },
  {
   "cell_type": "markdown",
   "id": "730968c3-9554-41bc-bb28-9bec33c21b3f",
   "metadata": {},
   "source": [
    "## Author\n",
    "Faizan Ali Awan"
   ]
  },
  {
   "cell_type": "code",
   "execution_count": null,
   "id": "550f3461-831b-4bc3-9e71-a590702d893b",
   "metadata": {},
   "outputs": [],
   "source": []
  }
 ],
 "metadata": {
  "kernelspec": {
   "display_name": "Python 3 (ipykernel)",
   "language": "python",
   "name": "python3"
  },
  "language_info": {
   "codemirror_mode": {
    "name": "ipython",
    "version": 3
   },
   "file_extension": ".py",
   "mimetype": "text/x-python",
   "name": "python",
   "nbconvert_exporter": "python",
   "pygments_lexer": "ipython3",
   "version": "3.12.4"
  }
 },
 "nbformat": 4,
 "nbformat_minor": 5
}
